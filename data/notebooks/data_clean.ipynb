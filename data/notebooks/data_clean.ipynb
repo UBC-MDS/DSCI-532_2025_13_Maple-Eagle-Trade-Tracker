{
 "cells": [
  {
   "cell_type": "code",
   "execution_count": 49,
   "metadata": {},
   "outputs": [],
   "source": [
    "import pandas as pd\n",
    "import os \n",
    "\n",
    "df = pd.read_csv('raw/StatsCan_RawData.csv')"
   ]
  },
  {
   "cell_type": "code",
   "execution_count": 50,
   "metadata": {},
   "outputs": [],
   "source": [
    "df = df[['REF_DATE', 'YEAR', 'GEO', 'Trade', 'North American Product Classification System (NAPCS)', 'Principal trading partners', 'VALUE', 'FULL_VALUE']]"
   ]
  },
  {
   "cell_type": "code",
   "execution_count": 51,
   "metadata": {},
   "outputs": [],
   "source": [
    "df.columns = ['YEAR_MONTH', 'YEAR', 'PROVINCE', 'TRADE_FLOW', 'SECTOR', 'TRADE_PARTNER', 'VALUE', 'FULL_VALUE']"
   ]
  },
  {
   "cell_type": "code",
   "execution_count": 53,
   "metadata": {},
   "outputs": [],
   "source": [
    "df['YEAR'] = df['YEAR'].apply(lambda x: pd.to_datetime(x, format='%Y').year)\n",
    "df['YEAR_MONTH'] = df['YEAR_MONTH'].apply(lambda x: pd.to_datetime(x, format='%Y-%m'))"
   ]
  },
  {
   "cell_type": "code",
   "execution_count": 55,
   "metadata": {},
   "outputs": [],
   "source": [
    "df['SECTOR'] = df['SECTOR'].str.replace('\\s*\\[.*?\\]', '', regex=True)"
   ]
  },
  {
   "cell_type": "code",
   "execution_count": 56,
   "metadata": {},
   "outputs": [],
   "source": [
    "df.to_csv('clean_data.csv', index=False)"
   ]
  },
  {
   "cell_type": "code",
   "execution_count": 57,
   "metadata": {},
   "outputs": [],
   "source": [
    "clean_df = pd.read_csv('clean_data.csv')"
   ]
  },
  {
   "cell_type": "code",
   "execution_count": null,
   "metadata": {},
   "outputs": [],
   "source": []
  }
 ],
 "metadata": {
  "kernelspec": {
   "display_name": "maple_eagle",
   "language": "python",
   "name": "python3"
  },
  "language_info": {
   "codemirror_mode": {
    "name": "ipython",
    "version": 3
   },
   "file_extension": ".py",
   "mimetype": "text/x-python",
   "name": "python",
   "nbconvert_exporter": "python",
   "pygments_lexer": "ipython3",
   "version": "3.11.11"
  }
 },
 "nbformat": 4,
 "nbformat_minor": 2
}
